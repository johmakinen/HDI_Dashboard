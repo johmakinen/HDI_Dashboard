{
 "cells": [
  {
   "cell_type": "markdown",
   "metadata": {},
   "source": [
    "## This notebook is for testing functions before adding them to src"
   ]
  },
  {
   "cell_type": "code",
   "execution_count": 1,
   "metadata": {},
   "outputs": [],
   "source": [
    "import numpy as np\n",
    "import pandas as pd\n",
    "from functools import reduce\n",
    "import plotly.express as px"
   ]
  },
  {
   "cell_type": "code",
   "execution_count": 2,
   "metadata": {},
   "outputs": [],
   "source": [
    "def process_raw_data():\n",
    "    path_raw_data = '../data/raw/'\n",
    "    path_processed_data = '../data/processed/'\n",
    "\n",
    "    df_EYS = pd.read_csv(path_raw_data+'Expected years of schooling (years).csv',skiprows=6,sep=',', encoding='latin-1')\n",
    "    df_GNIpc = pd.read_csv(path_raw_data+'Gross national income (GNI) per capita (constant 2017 PPP$).csv',skiprows=6,sep=',', encoding='latin-1')\n",
    "    df_LE = pd.read_csv(path_raw_data+'Life expectancy at birth (years).csv',skiprows=6,sep=',', encoding='latin-1')\n",
    "    df_MYS = pd.read_csv(path_raw_data+'Mean years of schooling (years).csv',skiprows=6,sep=',', encoding='latin-1')\n",
    "\n",
    "    common_countries = set.intersection(set(df_EYS['Country']), set(df_GNIpc['Country']), set(df_LE['Country']),set(df_MYS['Country']))\n",
    "    n_countries = len(common_countries)\n",
    "\n",
    "    keep_cols = np.r_[1:2,2:df_EYS.shape[1]:2]\n",
    "    df_EYS = df_EYS.iloc[:,keep_cols][df_EYS['Country'].isin(common_countries)].dropna(axis=0,subset='Country')\n",
    "    df_GNIpc = df_GNIpc.iloc[:,keep_cols][df_GNIpc['Country'].isin(common_countries)].dropna(axis=0,subset='Country')\n",
    "    df_LE = df_LE.iloc[:,keep_cols][df_LE['Country'].isin(common_countries)].dropna(axis=0,subset='Country')\n",
    "    df_MYS= df_MYS.iloc[:,keep_cols][df_MYS['Country'].isin(common_countries)].dropna(axis=0,subset='Country')\n",
    "\n",
    "    data_frames = [df_EYS.melt(id_vars='Country',var_name='Year',value_name='Expected_years_of_schooling'),\n",
    "                        df_GNIpc.melt(id_vars='Country',var_name='Year',value_name='Gross_national_income_per_capita'),\n",
    "                        df_LE.melt(id_vars='Country',var_name='Year',value_name='Life_expectancy_at_birth'),\n",
    "                        df_MYS.melt(id_vars='Country',var_name='Year',value_name='Mean_years_of_schooling')\n",
    "                    ]\n",
    "\n",
    "    res = reduce(lambda  left,right: pd.merge(left,right,on=['Country','Year'],\n",
    "                                                how='inner'), data_frames).applymap(lambda x: x.strip() if isinstance(x,str) else x)\n",
    "    res = res.replace('..', np.nan).astype({'Year': 'int32', 'Expected_years_of_schooling': 'float',\n",
    "                                            'Gross_national_income_per_capita': 'float', 'Life_expectancy_at_birth': 'float', 'Mean_years_of_schooling': 'float'})\n",
    "    \n",
    "    return res\n",
    "\n"
   ]
  },
  {
   "cell_type": "code",
   "execution_count": 3,
   "metadata": {},
   "outputs": [],
   "source": [
    "res = process_raw_data()"
   ]
  },
  {
   "cell_type": "code",
   "execution_count": 4,
   "metadata": {},
   "outputs": [],
   "source": [
    "countries = ['Netherlands','Germany','Finland']\n",
    "curr = res.query('Country in @countries')"
   ]
  },
  {
   "cell_type": "code",
   "execution_count": 8,
   "metadata": {},
   "outputs": [],
   "source": [
    "def add_indices(df):\n",
    "    res = df.copy()\n",
    "    res['LEI'] = (res['Life_expectancy_at_birth']-20)/(85-20)\n",
    "    res['EI'] = (res['Mean_years_of_schooling']/15+res['Expected_years_of_schooling']/18) / 2\n",
    "    res['II'] = (np.log(res['Gross_national_income_per_capita'])-np.log(100)) / (np.log(75000)-np.log(100))\n",
    "    \n",
    "    return res"
   ]
  },
  {
   "cell_type": "code",
   "execution_count": 9,
   "metadata": {},
   "outputs": [
    {
     "data": {
      "text/html": [
       "<div>\n",
       "<style scoped>\n",
       "    .dataframe tbody tr th:only-of-type {\n",
       "        vertical-align: middle;\n",
       "    }\n",
       "\n",
       "    .dataframe tbody tr th {\n",
       "        vertical-align: top;\n",
       "    }\n",
       "\n",
       "    .dataframe thead th {\n",
       "        text-align: right;\n",
       "    }\n",
       "</style>\n",
       "<table border=\"1\" class=\"dataframe\">\n",
       "  <thead>\n",
       "    <tr style=\"text-align: right;\">\n",
       "      <th></th>\n",
       "      <th>Country</th>\n",
       "      <th>Year</th>\n",
       "      <th>Expected_years_of_schooling</th>\n",
       "      <th>Gross_national_income_per_capita</th>\n",
       "      <th>Life_expectancy_at_birth</th>\n",
       "      <th>Mean_years_of_schooling</th>\n",
       "      <th>LEI</th>\n",
       "      <th>EI</th>\n",
       "      <th>II</th>\n",
       "    </tr>\n",
       "  </thead>\n",
       "  <tbody>\n",
       "    <tr>\n",
       "      <th>59</th>\n",
       "      <td>Finland</td>\n",
       "      <td>1990</td>\n",
       "      <td>15.0</td>\n",
       "      <td>32063.0</td>\n",
       "      <td>75.3</td>\n",
       "      <td>7.5</td>\n",
       "      <td>0.850769</td>\n",
       "      <td>0.666667</td>\n",
       "      <td>0.871635</td>\n",
       "    </tr>\n",
       "    <tr>\n",
       "      <th>64</th>\n",
       "      <td>Germany</td>\n",
       "      <td>1990</td>\n",
       "      <td>14.4</td>\n",
       "      <td>37232.0</td>\n",
       "      <td>75.5</td>\n",
       "      <td>8.8</td>\n",
       "      <td>0.853846</td>\n",
       "      <td>0.693333</td>\n",
       "      <td>0.894213</td>\n",
       "    </tr>\n",
       "    <tr>\n",
       "      <th>121</th>\n",
       "      <td>Netherlands</td>\n",
       "      <td>1990</td>\n",
       "      <td>14.7</td>\n",
       "      <td>36548.0</td>\n",
       "      <td>77.0</td>\n",
       "      <td>10.2</td>\n",
       "      <td>0.876923</td>\n",
       "      <td>0.748333</td>\n",
       "      <td>0.891412</td>\n",
       "    </tr>\n",
       "    <tr>\n",
       "      <th>265</th>\n",
       "      <td>Finland</td>\n",
       "      <td>1991</td>\n",
       "      <td>15.2</td>\n",
       "      <td>29767.0</td>\n",
       "      <td>75.5</td>\n",
       "      <td>7.7</td>\n",
       "      <td>0.853846</td>\n",
       "      <td>0.678889</td>\n",
       "      <td>0.860411</td>\n",
       "    </tr>\n",
       "    <tr>\n",
       "      <th>270</th>\n",
       "      <td>Germany</td>\n",
       "      <td>1991</td>\n",
       "      <td>14.7</td>\n",
       "      <td>38644.0</td>\n",
       "      <td>75.7</td>\n",
       "      <td>8.9</td>\n",
       "      <td>0.856923</td>\n",
       "      <td>0.705000</td>\n",
       "      <td>0.899835</td>\n",
       "    </tr>\n",
       "    <tr>\n",
       "      <th>...</th>\n",
       "      <td>...</td>\n",
       "      <td>...</td>\n",
       "      <td>...</td>\n",
       "      <td>...</td>\n",
       "      <td>...</td>\n",
       "      <td>...</td>\n",
       "      <td>...</td>\n",
       "      <td>...</td>\n",
       "      <td>...</td>\n",
       "    </tr>\n",
       "    <tr>\n",
       "      <th>5832</th>\n",
       "      <td>Germany</td>\n",
       "      <td>2018</td>\n",
       "      <td>17.0</td>\n",
       "      <td>55155.0</td>\n",
       "      <td>81.2</td>\n",
       "      <td>14.1</td>\n",
       "      <td>0.941538</td>\n",
       "      <td>0.942222</td>\n",
       "      <td>0.953574</td>\n",
       "    </tr>\n",
       "    <tr>\n",
       "      <th>5889</th>\n",
       "      <td>Netherlands</td>\n",
       "      <td>2018</td>\n",
       "      <td>18.5</td>\n",
       "      <td>57014.0</td>\n",
       "      <td>82.1</td>\n",
       "      <td>12.3</td>\n",
       "      <td>0.955385</td>\n",
       "      <td>0.923889</td>\n",
       "      <td>0.958582</td>\n",
       "    </tr>\n",
       "    <tr>\n",
       "      <th>6033</th>\n",
       "      <td>Finland</td>\n",
       "      <td>2019</td>\n",
       "      <td>19.4</td>\n",
       "      <td>48511.0</td>\n",
       "      <td>81.9</td>\n",
       "      <td>12.8</td>\n",
       "      <td>0.952308</td>\n",
       "      <td>0.965556</td>\n",
       "      <td>0.934185</td>\n",
       "    </tr>\n",
       "    <tr>\n",
       "      <th>6038</th>\n",
       "      <td>Germany</td>\n",
       "      <td>2019</td>\n",
       "      <td>17.0</td>\n",
       "      <td>55314.0</td>\n",
       "      <td>81.3</td>\n",
       "      <td>14.2</td>\n",
       "      <td>0.943077</td>\n",
       "      <td>0.945556</td>\n",
       "      <td>0.954009</td>\n",
       "    </tr>\n",
       "    <tr>\n",
       "      <th>6095</th>\n",
       "      <td>Netherlands</td>\n",
       "      <td>2019</td>\n",
       "      <td>18.5</td>\n",
       "      <td>57707.0</td>\n",
       "      <td>82.3</td>\n",
       "      <td>12.4</td>\n",
       "      <td>0.958462</td>\n",
       "      <td>0.927222</td>\n",
       "      <td>0.960407</td>\n",
       "    </tr>\n",
       "  </tbody>\n",
       "</table>\n",
       "<p>90 rows × 9 columns</p>\n",
       "</div>"
      ],
      "text/plain": [
       "          Country  Year  Expected_years_of_schooling  \\\n",
       "59        Finland  1990                         15.0   \n",
       "64        Germany  1990                         14.4   \n",
       "121   Netherlands  1990                         14.7   \n",
       "265       Finland  1991                         15.2   \n",
       "270       Germany  1991                         14.7   \n",
       "...           ...   ...                          ...   \n",
       "5832      Germany  2018                         17.0   \n",
       "5889  Netherlands  2018                         18.5   \n",
       "6033      Finland  2019                         19.4   \n",
       "6038      Germany  2019                         17.0   \n",
       "6095  Netherlands  2019                         18.5   \n",
       "\n",
       "      Gross_national_income_per_capita  Life_expectancy_at_birth  \\\n",
       "59                             32063.0                      75.3   \n",
       "64                             37232.0                      75.5   \n",
       "121                            36548.0                      77.0   \n",
       "265                            29767.0                      75.5   \n",
       "270                            38644.0                      75.7   \n",
       "...                                ...                       ...   \n",
       "5832                           55155.0                      81.2   \n",
       "5889                           57014.0                      82.1   \n",
       "6033                           48511.0                      81.9   \n",
       "6038                           55314.0                      81.3   \n",
       "6095                           57707.0                      82.3   \n",
       "\n",
       "      Mean_years_of_schooling       LEI        EI        II  \n",
       "59                        7.5  0.850769  0.666667  0.871635  \n",
       "64                        8.8  0.853846  0.693333  0.894213  \n",
       "121                      10.2  0.876923  0.748333  0.891412  \n",
       "265                       7.7  0.853846  0.678889  0.860411  \n",
       "270                       8.9  0.856923  0.705000  0.899835  \n",
       "...                       ...       ...       ...       ...  \n",
       "5832                     14.1  0.941538  0.942222  0.953574  \n",
       "5889                     12.3  0.955385  0.923889  0.958582  \n",
       "6033                     12.8  0.952308  0.965556  0.934185  \n",
       "6038                     14.2  0.943077  0.945556  0.954009  \n",
       "6095                     12.4  0.958462  0.927222  0.960407  \n",
       "\n",
       "[90 rows x 9 columns]"
      ]
     },
     "execution_count": 9,
     "metadata": {},
     "output_type": "execute_result"
    }
   ],
   "source": [
    "curr_ind = add_indices(curr)\n",
    "curr_ind"
   ]
  },
  {
   "cell_type": "code",
   "execution_count": 14,
   "metadata": {},
   "outputs": [],
   "source": [
    "def plot_index(df,index_name):\n",
    "    titles = {'EI':'Education Index (EI)',\n",
    "                'II': 'Income Index (II)',\n",
    "                'LEI':'Life Expectancy Index (LEI)'}\n",
    "    fig = px.line(df, x=\"Year\", y=index_name,color='Country',title=titles[index_name],\n",
    "    color_discrete_sequence=px.colors.qualitative.Dark2)\n",
    "    fig.update_layout(title_x=0.5)\n",
    "    fig.update_layout({\n",
    "    'plot_bgcolor': 'rgba(0, 0, 0, 0)',\n",
    "    'paper_bgcolor': 'rgba(0, 0, 0, 0)',\n",
    "    })\n",
    "    return fig"
   ]
  },
  {
   "cell_type": "code",
   "execution_count": 15,
   "metadata": {},
   "outputs": [
    {
     "data": {
      "application/vnd.plotly.v1+json": {
       "config": {
        "plotlyServerURL": "https://plot.ly"
       },
       "data": [
        {
         "hovertemplate": "Country=Finland<br>Year=%{x}<br>EI=%{y}<extra></extra>",
         "legendgroup": "Finland",
         "line": {
          "color": "rgb(27,158,119)",
          "dash": "solid"
         },
         "marker": {
          "symbol": "circle"
         },
         "mode": "lines",
         "name": "Finland",
         "orientation": "v",
         "showlegend": true,
         "type": "scatter",
         "x": [
          1990,
          1991,
          1992,
          1993,
          1994,
          1995,
          1996,
          1997,
          1998,
          1999,
          2000,
          2001,
          2002,
          2003,
          2004,
          2005,
          2006,
          2007,
          2008,
          2009,
          2010,
          2011,
          2012,
          2013,
          2014,
          2015,
          2016,
          2017,
          2018,
          2019
         ],
         "xaxis": "x",
         "y": [
          0.6666666666666667,
          0.6788888888888889,
          0.7022222222222223,
          0.715,
          0.73,
          0.7394444444444445,
          0.7516666666666667,
          0.7633333333333334,
          0.775,
          0.7872222222222223,
          0.8016666666666666,
          0.8133333333333334,
          0.8194444444444444,
          0.8283333333333334,
          0.8916666666666667,
          0.8944444444444444,
          0.8977777777777778,
          0.895,
          0.8955555555555554,
          0.8933333333333333,
          0.8961111111111111,
          0.9022222222222223,
          0.9022222222222223,
          0.9627777777777777,
          0.9561111111111111,
          0.9594444444444443,
          0.9594444444444443,
          0.9627777777777777,
          0.9627777777777777,
          0.9655555555555555
         ],
         "yaxis": "y"
        },
        {
         "hovertemplate": "Country=Germany<br>Year=%{x}<br>EI=%{y}<extra></extra>",
         "legendgroup": "Germany",
         "line": {
          "color": "rgb(217,95,2)",
          "dash": "solid"
         },
         "marker": {
          "symbol": "circle"
         },
         "mode": "lines",
         "name": "Germany",
         "orientation": "v",
         "showlegend": true,
         "type": "scatter",
         "x": [
          1990,
          1991,
          1992,
          1993,
          1994,
          1995,
          1996,
          1997,
          1998,
          1999,
          2000,
          2001,
          2002,
          2003,
          2004,
          2005,
          2006,
          2007,
          2008,
          2009,
          2010,
          2011,
          2012,
          2013,
          2014,
          2015,
          2016,
          2017,
          2018,
          2019
         ],
         "xaxis": "x",
         "y": [
          0.6933333333333334,
          0.7050000000000001,
          0.7144444444444444,
          0.7405555555555556,
          0.75,
          0.7594444444444444,
          0.7655555555555555,
          0.7749999999999999,
          0.7938888888888889,
          0.81,
          0.8233333333333333,
          0.8427777777777777,
          0.856111111111111,
          0.8722222222222222,
          0.8922222222222221,
          0.8916666666666666,
          0.9111111111111112,
          0.9144444444444444,
          0.9205555555555556,
          0.9205555555555556,
          0.9266666666666667,
          0.9294444444444444,
          0.9327777777777777,
          0.9299999999999999,
          0.9305555555555556,
          0.9338888888888888,
          0.9366666666666666,
          0.9394444444444443,
          0.9422222222222222,
          0.9455555555555555
         ],
         "yaxis": "y"
        },
        {
         "hovertemplate": "Country=Netherlands<br>Year=%{x}<br>EI=%{y}<extra></extra>",
         "legendgroup": "Netherlands",
         "line": {
          "color": "rgb(117,112,179)",
          "dash": "solid"
         },
         "marker": {
          "symbol": "circle"
         },
         "mode": "lines",
         "name": "Netherlands",
         "orientation": "v",
         "showlegend": true,
         "type": "scatter",
         "x": [
          1990,
          1991,
          1992,
          1993,
          1994,
          1995,
          1996,
          1997,
          1998,
          1999,
          2000,
          2001,
          2002,
          2003,
          2004,
          2005,
          2006,
          2007,
          2008,
          2009,
          2010,
          2011,
          2012,
          2013,
          2014,
          2015,
          2016,
          2017,
          2018,
          2019
         ],
         "xaxis": "x",
         "y": [
          0.7483333333333333,
          0.7538888888888888,
          0.7544444444444445,
          0.7661111111111112,
          0.8272222222222223,
          0.8138888888888889,
          0.8227777777777777,
          0.8144444444444445,
          0.815,
          0.8155555555555556,
          0.8211111111111111,
          0.8305555555555555,
          0.8227777777777778,
          0.8322222222222222,
          0.8361111111111111,
          0.8422222222222222,
          0.8516666666666667,
          0.8611111111111112,
          0.8666666666666667,
          0.8633333333333333,
          0.8722222222222222,
          0.8972222222222221,
          0.8977777777777778,
          0.9005555555555556,
          0.9033333333333333,
          0.9094444444444444,
          0.9066666666666666,
          0.91,
          0.9238888888888889,
          0.9272222222222222
         ],
         "yaxis": "y"
        }
       ],
       "layout": {
        "legend": {
         "title": {
          "text": "Country"
         },
         "tracegroupgap": 0
        },
        "paper_bgcolor": "rgba(0, 0, 0, 0)",
        "plot_bgcolor": "rgba(0, 0, 0, 0)",
        "template": {
         "data": {
          "bar": [
           {
            "error_x": {
             "color": "#2a3f5f"
            },
            "error_y": {
             "color": "#2a3f5f"
            },
            "marker": {
             "line": {
              "color": "#E5ECF6",
              "width": 0.5
             },
             "pattern": {
              "fillmode": "overlay",
              "size": 10,
              "solidity": 0.2
             }
            },
            "type": "bar"
           }
          ],
          "barpolar": [
           {
            "marker": {
             "line": {
              "color": "#E5ECF6",
              "width": 0.5
             },
             "pattern": {
              "fillmode": "overlay",
              "size": 10,
              "solidity": 0.2
             }
            },
            "type": "barpolar"
           }
          ],
          "carpet": [
           {
            "aaxis": {
             "endlinecolor": "#2a3f5f",
             "gridcolor": "white",
             "linecolor": "white",
             "minorgridcolor": "white",
             "startlinecolor": "#2a3f5f"
            },
            "baxis": {
             "endlinecolor": "#2a3f5f",
             "gridcolor": "white",
             "linecolor": "white",
             "minorgridcolor": "white",
             "startlinecolor": "#2a3f5f"
            },
            "type": "carpet"
           }
          ],
          "choropleth": [
           {
            "colorbar": {
             "outlinewidth": 0,
             "ticks": ""
            },
            "type": "choropleth"
           }
          ],
          "contour": [
           {
            "colorbar": {
             "outlinewidth": 0,
             "ticks": ""
            },
            "colorscale": [
             [
              0,
              "#0d0887"
             ],
             [
              0.1111111111111111,
              "#46039f"
             ],
             [
              0.2222222222222222,
              "#7201a8"
             ],
             [
              0.3333333333333333,
              "#9c179e"
             ],
             [
              0.4444444444444444,
              "#bd3786"
             ],
             [
              0.5555555555555556,
              "#d8576b"
             ],
             [
              0.6666666666666666,
              "#ed7953"
             ],
             [
              0.7777777777777778,
              "#fb9f3a"
             ],
             [
              0.8888888888888888,
              "#fdca26"
             ],
             [
              1,
              "#f0f921"
             ]
            ],
            "type": "contour"
           }
          ],
          "contourcarpet": [
           {
            "colorbar": {
             "outlinewidth": 0,
             "ticks": ""
            },
            "type": "contourcarpet"
           }
          ],
          "heatmap": [
           {
            "colorbar": {
             "outlinewidth": 0,
             "ticks": ""
            },
            "colorscale": [
             [
              0,
              "#0d0887"
             ],
             [
              0.1111111111111111,
              "#46039f"
             ],
             [
              0.2222222222222222,
              "#7201a8"
             ],
             [
              0.3333333333333333,
              "#9c179e"
             ],
             [
              0.4444444444444444,
              "#bd3786"
             ],
             [
              0.5555555555555556,
              "#d8576b"
             ],
             [
              0.6666666666666666,
              "#ed7953"
             ],
             [
              0.7777777777777778,
              "#fb9f3a"
             ],
             [
              0.8888888888888888,
              "#fdca26"
             ],
             [
              1,
              "#f0f921"
             ]
            ],
            "type": "heatmap"
           }
          ],
          "heatmapgl": [
           {
            "colorbar": {
             "outlinewidth": 0,
             "ticks": ""
            },
            "colorscale": [
             [
              0,
              "#0d0887"
             ],
             [
              0.1111111111111111,
              "#46039f"
             ],
             [
              0.2222222222222222,
              "#7201a8"
             ],
             [
              0.3333333333333333,
              "#9c179e"
             ],
             [
              0.4444444444444444,
              "#bd3786"
             ],
             [
              0.5555555555555556,
              "#d8576b"
             ],
             [
              0.6666666666666666,
              "#ed7953"
             ],
             [
              0.7777777777777778,
              "#fb9f3a"
             ],
             [
              0.8888888888888888,
              "#fdca26"
             ],
             [
              1,
              "#f0f921"
             ]
            ],
            "type": "heatmapgl"
           }
          ],
          "histogram": [
           {
            "marker": {
             "pattern": {
              "fillmode": "overlay",
              "size": 10,
              "solidity": 0.2
             }
            },
            "type": "histogram"
           }
          ],
          "histogram2d": [
           {
            "colorbar": {
             "outlinewidth": 0,
             "ticks": ""
            },
            "colorscale": [
             [
              0,
              "#0d0887"
             ],
             [
              0.1111111111111111,
              "#46039f"
             ],
             [
              0.2222222222222222,
              "#7201a8"
             ],
             [
              0.3333333333333333,
              "#9c179e"
             ],
             [
              0.4444444444444444,
              "#bd3786"
             ],
             [
              0.5555555555555556,
              "#d8576b"
             ],
             [
              0.6666666666666666,
              "#ed7953"
             ],
             [
              0.7777777777777778,
              "#fb9f3a"
             ],
             [
              0.8888888888888888,
              "#fdca26"
             ],
             [
              1,
              "#f0f921"
             ]
            ],
            "type": "histogram2d"
           }
          ],
          "histogram2dcontour": [
           {
            "colorbar": {
             "outlinewidth": 0,
             "ticks": ""
            },
            "colorscale": [
             [
              0,
              "#0d0887"
             ],
             [
              0.1111111111111111,
              "#46039f"
             ],
             [
              0.2222222222222222,
              "#7201a8"
             ],
             [
              0.3333333333333333,
              "#9c179e"
             ],
             [
              0.4444444444444444,
              "#bd3786"
             ],
             [
              0.5555555555555556,
              "#d8576b"
             ],
             [
              0.6666666666666666,
              "#ed7953"
             ],
             [
              0.7777777777777778,
              "#fb9f3a"
             ],
             [
              0.8888888888888888,
              "#fdca26"
             ],
             [
              1,
              "#f0f921"
             ]
            ],
            "type": "histogram2dcontour"
           }
          ],
          "mesh3d": [
           {
            "colorbar": {
             "outlinewidth": 0,
             "ticks": ""
            },
            "type": "mesh3d"
           }
          ],
          "parcoords": [
           {
            "line": {
             "colorbar": {
              "outlinewidth": 0,
              "ticks": ""
             }
            },
            "type": "parcoords"
           }
          ],
          "pie": [
           {
            "automargin": true,
            "type": "pie"
           }
          ],
          "scatter": [
           {
            "marker": {
             "colorbar": {
              "outlinewidth": 0,
              "ticks": ""
             }
            },
            "type": "scatter"
           }
          ],
          "scatter3d": [
           {
            "line": {
             "colorbar": {
              "outlinewidth": 0,
              "ticks": ""
             }
            },
            "marker": {
             "colorbar": {
              "outlinewidth": 0,
              "ticks": ""
             }
            },
            "type": "scatter3d"
           }
          ],
          "scattercarpet": [
           {
            "marker": {
             "colorbar": {
              "outlinewidth": 0,
              "ticks": ""
             }
            },
            "type": "scattercarpet"
           }
          ],
          "scattergeo": [
           {
            "marker": {
             "colorbar": {
              "outlinewidth": 0,
              "ticks": ""
             }
            },
            "type": "scattergeo"
           }
          ],
          "scattergl": [
           {
            "marker": {
             "colorbar": {
              "outlinewidth": 0,
              "ticks": ""
             }
            },
            "type": "scattergl"
           }
          ],
          "scattermapbox": [
           {
            "marker": {
             "colorbar": {
              "outlinewidth": 0,
              "ticks": ""
             }
            },
            "type": "scattermapbox"
           }
          ],
          "scatterpolar": [
           {
            "marker": {
             "colorbar": {
              "outlinewidth": 0,
              "ticks": ""
             }
            },
            "type": "scatterpolar"
           }
          ],
          "scatterpolargl": [
           {
            "marker": {
             "colorbar": {
              "outlinewidth": 0,
              "ticks": ""
             }
            },
            "type": "scatterpolargl"
           }
          ],
          "scatterternary": [
           {
            "marker": {
             "colorbar": {
              "outlinewidth": 0,
              "ticks": ""
             }
            },
            "type": "scatterternary"
           }
          ],
          "surface": [
           {
            "colorbar": {
             "outlinewidth": 0,
             "ticks": ""
            },
            "colorscale": [
             [
              0,
              "#0d0887"
             ],
             [
              0.1111111111111111,
              "#46039f"
             ],
             [
              0.2222222222222222,
              "#7201a8"
             ],
             [
              0.3333333333333333,
              "#9c179e"
             ],
             [
              0.4444444444444444,
              "#bd3786"
             ],
             [
              0.5555555555555556,
              "#d8576b"
             ],
             [
              0.6666666666666666,
              "#ed7953"
             ],
             [
              0.7777777777777778,
              "#fb9f3a"
             ],
             [
              0.8888888888888888,
              "#fdca26"
             ],
             [
              1,
              "#f0f921"
             ]
            ],
            "type": "surface"
           }
          ],
          "table": [
           {
            "cells": {
             "fill": {
              "color": "#EBF0F8"
             },
             "line": {
              "color": "white"
             }
            },
            "header": {
             "fill": {
              "color": "#C8D4E3"
             },
             "line": {
              "color": "white"
             }
            },
            "type": "table"
           }
          ]
         },
         "layout": {
          "annotationdefaults": {
           "arrowcolor": "#2a3f5f",
           "arrowhead": 0,
           "arrowwidth": 1
          },
          "autotypenumbers": "strict",
          "coloraxis": {
           "colorbar": {
            "outlinewidth": 0,
            "ticks": ""
           }
          },
          "colorscale": {
           "diverging": [
            [
             0,
             "#8e0152"
            ],
            [
             0.1,
             "#c51b7d"
            ],
            [
             0.2,
             "#de77ae"
            ],
            [
             0.3,
             "#f1b6da"
            ],
            [
             0.4,
             "#fde0ef"
            ],
            [
             0.5,
             "#f7f7f7"
            ],
            [
             0.6,
             "#e6f5d0"
            ],
            [
             0.7,
             "#b8e186"
            ],
            [
             0.8,
             "#7fbc41"
            ],
            [
             0.9,
             "#4d9221"
            ],
            [
             1,
             "#276419"
            ]
           ],
           "sequential": [
            [
             0,
             "#0d0887"
            ],
            [
             0.1111111111111111,
             "#46039f"
            ],
            [
             0.2222222222222222,
             "#7201a8"
            ],
            [
             0.3333333333333333,
             "#9c179e"
            ],
            [
             0.4444444444444444,
             "#bd3786"
            ],
            [
             0.5555555555555556,
             "#d8576b"
            ],
            [
             0.6666666666666666,
             "#ed7953"
            ],
            [
             0.7777777777777778,
             "#fb9f3a"
            ],
            [
             0.8888888888888888,
             "#fdca26"
            ],
            [
             1,
             "#f0f921"
            ]
           ],
           "sequentialminus": [
            [
             0,
             "#0d0887"
            ],
            [
             0.1111111111111111,
             "#46039f"
            ],
            [
             0.2222222222222222,
             "#7201a8"
            ],
            [
             0.3333333333333333,
             "#9c179e"
            ],
            [
             0.4444444444444444,
             "#bd3786"
            ],
            [
             0.5555555555555556,
             "#d8576b"
            ],
            [
             0.6666666666666666,
             "#ed7953"
            ],
            [
             0.7777777777777778,
             "#fb9f3a"
            ],
            [
             0.8888888888888888,
             "#fdca26"
            ],
            [
             1,
             "#f0f921"
            ]
           ]
          },
          "colorway": [
           "#636efa",
           "#EF553B",
           "#00cc96",
           "#ab63fa",
           "#FFA15A",
           "#19d3f3",
           "#FF6692",
           "#B6E880",
           "#FF97FF",
           "#FECB52"
          ],
          "font": {
           "color": "#2a3f5f"
          },
          "geo": {
           "bgcolor": "white",
           "lakecolor": "white",
           "landcolor": "#E5ECF6",
           "showlakes": true,
           "showland": true,
           "subunitcolor": "white"
          },
          "hoverlabel": {
           "align": "left"
          },
          "hovermode": "closest",
          "mapbox": {
           "style": "light"
          },
          "paper_bgcolor": "white",
          "plot_bgcolor": "#E5ECF6",
          "polar": {
           "angularaxis": {
            "gridcolor": "white",
            "linecolor": "white",
            "ticks": ""
           },
           "bgcolor": "#E5ECF6",
           "radialaxis": {
            "gridcolor": "white",
            "linecolor": "white",
            "ticks": ""
           }
          },
          "scene": {
           "xaxis": {
            "backgroundcolor": "#E5ECF6",
            "gridcolor": "white",
            "gridwidth": 2,
            "linecolor": "white",
            "showbackground": true,
            "ticks": "",
            "zerolinecolor": "white"
           },
           "yaxis": {
            "backgroundcolor": "#E5ECF6",
            "gridcolor": "white",
            "gridwidth": 2,
            "linecolor": "white",
            "showbackground": true,
            "ticks": "",
            "zerolinecolor": "white"
           },
           "zaxis": {
            "backgroundcolor": "#E5ECF6",
            "gridcolor": "white",
            "gridwidth": 2,
            "linecolor": "white",
            "showbackground": true,
            "ticks": "",
            "zerolinecolor": "white"
           }
          },
          "shapedefaults": {
           "line": {
            "color": "#2a3f5f"
           }
          },
          "ternary": {
           "aaxis": {
            "gridcolor": "white",
            "linecolor": "white",
            "ticks": ""
           },
           "baxis": {
            "gridcolor": "white",
            "linecolor": "white",
            "ticks": ""
           },
           "bgcolor": "#E5ECF6",
           "caxis": {
            "gridcolor": "white",
            "linecolor": "white",
            "ticks": ""
           }
          },
          "title": {
           "x": 0.05
          },
          "xaxis": {
           "automargin": true,
           "gridcolor": "white",
           "linecolor": "white",
           "ticks": "",
           "title": {
            "standoff": 15
           },
           "zerolinecolor": "white",
           "zerolinewidth": 2
          },
          "yaxis": {
           "automargin": true,
           "gridcolor": "white",
           "linecolor": "white",
           "ticks": "",
           "title": {
            "standoff": 15
           },
           "zerolinecolor": "white",
           "zerolinewidth": 2
          }
         }
        },
        "title": {
         "text": "Education Index (EI)",
         "x": 0.5
        },
        "xaxis": {
         "anchor": "y",
         "domain": [
          0,
          1
         ],
         "title": {
          "text": "Year"
         }
        },
        "yaxis": {
         "anchor": "x",
         "domain": [
          0,
          1
         ],
         "title": {
          "text": "EI"
         }
        }
       }
      }
     },
     "metadata": {},
     "output_type": "display_data"
    }
   ],
   "source": [
    "plot_index(curr_ind,'EI')"
   ]
  },
  {
   "cell_type": "code",
   "execution_count": null,
   "metadata": {},
   "outputs": [],
   "source": []
  }
 ],
 "metadata": {
  "interpreter": {
   "hash": "a7ddae89272c5e1c12a3a1ae6887a7502c843651321396b561b7df081fd11b18"
  },
  "kernelspec": {
   "display_name": "Python 3.9.7 ('env_HPC')",
   "language": "python",
   "name": "python3"
  },
  "language_info": {
   "codemirror_mode": {
    "name": "ipython",
    "version": 3
   },
   "file_extension": ".py",
   "mimetype": "text/x-python",
   "name": "python",
   "nbconvert_exporter": "python",
   "pygments_lexer": "ipython3",
   "version": "3.9.7"
  },
  "orig_nbformat": 4
 },
 "nbformat": 4,
 "nbformat_minor": 2
}
