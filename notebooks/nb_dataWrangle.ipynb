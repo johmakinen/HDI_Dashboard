{
 "cells": [
  {
   "cell_type": "markdown",
   "metadata": {},
   "source": [
    "## This notebook is for testing functions before adding them to src"
   ]
  },
  {
   "cell_type": "code",
   "execution_count": 1,
   "metadata": {},
   "outputs": [],
   "source": [
    "import numpy as np\n",
    "import pandas as pd\n",
    "from functools import reduce"
   ]
  },
  {
   "cell_type": "code",
   "execution_count": 2,
   "metadata": {},
   "outputs": [],
   "source": [
    "def process_raw_data():\n",
    "    path_raw_data = '../data/raw/'\n",
    "    path_processed_data = '../data/processed/'\n",
    "\n",
    "    df_EYS = pd.read_csv(path_raw_data+'Expected years of schooling (years).csv',skiprows=6,sep=',', encoding='latin-1')\n",
    "    df_GNIpc = pd.read_csv(path_raw_data+'Gross national income (GNI) per capita (constant 2017 PPP$).csv',skiprows=6,sep=',', encoding='latin-1')\n",
    "    df_LE = pd.read_csv(path_raw_data+'Life expectancy at birth (years).csv',skiprows=6,sep=',', encoding='latin-1')\n",
    "    df_MYS = pd.read_csv(path_raw_data+'Mean years of schooling (years).csv',skiprows=6,sep=',', encoding='latin-1')\n",
    "\n",
    "    common_countries = set.intersection(set(df_EYS['Country']), set(df_GNIpc['Country']), set(df_LE['Country']),set(df_MYS['Country']))\n",
    "    n_countries = len(common_countries)\n",
    "\n",
    "    keep_cols = np.r_[1:2,2:df_EYS.shape[1]:2]\n",
    "    df_EYS = df_EYS.iloc[:,keep_cols][df_EYS['Country'].isin(common_countries)].dropna(axis=0,subset='Country')\n",
    "    df_GNIpc = df_GNIpc.iloc[:,keep_cols][df_GNIpc['Country'].isin(common_countries)].dropna(axis=0,subset='Country')\n",
    "    df_LE = df_LE.iloc[:,keep_cols][df_LE['Country'].isin(common_countries)].dropna(axis=0,subset='Country')\n",
    "    df_MYS= df_MYS.iloc[:,keep_cols][df_MYS['Country'].isin(common_countries)].dropna(axis=0,subset='Country')\n",
    "\n",
    "    data_frames = [df_EYS.melt(id_vars='Country',var_name='Year',value_name='Expected_years_of_schooling'),\n",
    "                        df_GNIpc.melt(id_vars='Country',var_name='Year',value_name='Gross_national_income_per_capita'),\n",
    "                        df_LE.melt(id_vars='Country',var_name='Year',value_name='Life_expectancy_at_birth'),\n",
    "                        df_MYS.melt(id_vars='Country',var_name='Year',value_name='Mean_years_of_schooling')\n",
    "                    ]\n",
    "\n",
    "    res = reduce(lambda  left,right: pd.merge(left,right,on=['Country','Year'],\n",
    "                                                how='inner'), data_frames).applymap(lambda x: x.strip() if isinstance(x,str) else x)\n",
    "    # res.to_csv(path_processed_data+'processed_data.csv',index=False)\n",
    "    return res\n",
    "\n"
   ]
  },
  {
   "cell_type": "code",
   "execution_count": 3,
   "metadata": {},
   "outputs": [],
   "source": [
    "res = process_raw_data()"
   ]
  },
  {
   "cell_type": "code",
   "execution_count": 21,
   "metadata": {},
   "outputs": [
    {
     "data": {
      "text/plain": [
       "0"
      ]
     },
     "execution_count": 21,
     "metadata": {},
     "output_type": "execute_result"
    }
   ],
   "source": [
    "res.isin([np.inf, -np.inf]).sum().sum()"
   ]
  },
  {
   "cell_type": "code",
   "execution_count": null,
   "metadata": {},
   "outputs": [],
   "source": []
  },
  {
   "cell_type": "code",
   "execution_count": null,
   "metadata": {},
   "outputs": [],
   "source": []
  },
  {
   "cell_type": "code",
   "execution_count": null,
   "metadata": {},
   "outputs": [],
   "source": []
  },
  {
   "cell_type": "code",
   "execution_count": null,
   "metadata": {},
   "outputs": [],
   "source": []
  }
 ],
 "metadata": {
  "interpreter": {
   "hash": "a7ddae89272c5e1c12a3a1ae6887a7502c843651321396b561b7df081fd11b18"
  },
  "kernelspec": {
   "display_name": "Python 3.9.7 ('env_HPC')",
   "language": "python",
   "name": "python3"
  },
  "language_info": {
   "codemirror_mode": {
    "name": "ipython",
    "version": 3
   },
   "file_extension": ".py",
   "mimetype": "text/x-python",
   "name": "python",
   "nbconvert_exporter": "python",
   "pygments_lexer": "ipython3",
   "version": "3.9.7"
  },
  "orig_nbformat": 4
 },
 "nbformat": 4,
 "nbformat_minor": 2
}
